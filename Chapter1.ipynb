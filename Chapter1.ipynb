{
 "cells": [
  {
   "cell_type": "markdown",
   "id": "ae57d758",
   "metadata": {},
   "source": [
    "# Mantissenlängen verschiedener Gleitkommadarstellungen"
   ]
  },
  {
   "cell_type": "markdown",
   "id": "ea3aecf8",
   "metadata": {},
   "source": [
    "In diesem Beispiel zeigen wir, wie man experimentell die Mantissenlänge einer Gleitkommadarstellung bestimmen kann."
   ]
  },
  {
   "cell_type": "code",
   "execution_count": 27,
   "id": "a9572638",
   "metadata": {},
   "outputs": [
    {
     "name": "stdout",
     "output_type": "stream",
     "text": [
      "Double precision Werte haben eine Mantissenlänge von 52\n",
      "Single precision Werte haben eine Mantissenlänge von 23\n",
      "Half precision Werte haben eine Mantissenlänge von 10\n",
      "Extended precision Werte haben eine Mantissenlänge von 63\n"
     ]
    }
   ],
   "source": [
    "import numpy as np\n",
    "def get_mantissa_length(dtype=np.float64):\n",
    "    m = 0\n",
    "    x = np.array([1.0], dtype=dtype)\n",
    "    while x != x + 2**-m:\n",
    "        m += 1\n",
    "    return m-1\n",
    "print(\"Double precision Werte haben eine Mantissenlänge von\", get_mantissa_length())\n",
    "print(\"Single precision Werte haben eine Mantissenlänge von\", get_mantissa_length(dtype=np.float32))\n",
    "print(\"Half precision Werte haben eine Mantissenlänge von\", get_mantissa_length(dtype=np.float16))\n",
    "print(\"Extended precision Werte haben eine Mantissenlänge von\", get_mantissa_length(dtype=np.longdouble))\n"
   ]
  },
  {
   "cell_type": "markdown",
   "id": "b3ebe6d2",
   "metadata": {},
   "source": [
    "# Assoziativität von Gleitkommazahlen"
   ]
  },
  {
   "cell_type": "markdown",
   "id": "8603acb2",
   "metadata": {},
   "source": [
    "In diesem Beispiel wollen wir Aufzeigen, dass die Assoziativität bei Gleitkommazahlen im Allgemeinen nicht mehr gilt."
   ]
  },
  {
   "cell_type": "code",
   "execution_count": 2,
   "id": "2efcfaa1",
   "metadata": {},
   "outputs": [
    {
     "name": "stdout",
     "output_type": "stream",
     "text": [
      "Wir addieren folgende Zahlen aus dem Array a = [ 3.277e+04 -3.277e+04  2.000e+00 -1.000e+00  4.000e+00]\n",
      "Exaktes Ergebnis 5.0\n",
      "Berechnung von a[0] + (a[1] + (a[2] + (a[3] + a[4]))) = 0.0\n",
      "Berechnung von a[0] + (a[1] + (a[2] + (a[3]))) + a[4] = 4.0\n"
     ]
    }
   ],
   "source": [
    "import numpy as np\n",
    "\n",
    "a = np.array([2**15, -2**15, 2**1,-2**0,2**2], dtype=np.float16)\n",
    "print(\"Wir addieren folgende Zahlen aus dem Array a =\", a)\n",
    "\n",
    "print(\"Exaktes Ergebnis\", np.sum(a))\n",
    "print(\"Berechnung von a[0] + (a[1] + (a[2] + (a[3] + a[4]))) =\", a[0] + (a[1] + (a[2] + (a[3] + a[4]))))\n",
    "print(\"Berechnung von a[0] + (a[1] + (a[2] + (a[3]))) + a[4] =\", a[0] + (a[1] + (a[2] + (a[3]))) + a[4])\n",
    "\n"
   ]
  },
  {
   "cell_type": "markdown",
   "id": "aa80f739",
   "metadata": {},
   "source": [
    "# Approximation der Exponentialfunktion mittels Seriendarstellung"
   ]
  },
  {
   "cell_type": "markdown",
   "id": "cfe5c672",
   "metadata": {},
   "source": [
    "Nun wollen wir die Exponentialfunktion mittels der Seriendarstellung approximieren für ein gegebenes $n_{max}$:\n",
    "$$\n",
    "e^x \\approx \\sum_{n=0}^{n_{max}} x^{n}/(n!) \n",
    "$$"
   ]
  },
  {
   "cell_type": "code",
   "execution_count": 31,
   "id": "a334f13a",
   "metadata": {},
   "outputs": [
    {
     "name": "stdout",
     "output_type": "stream",
     "text": [
      "Ergebnis mit double precision: 5.621884472130418e-09\n",
      "Ergebnis mit half precision: [nan]\n",
      "Ergebnis mit single precision: [-2.7566755]\n",
      "Ergebnis mit extended precision:Ergebnis mit [2.06019941e-09]\n"
     ]
    },
    {
     "name": "stderr",
     "output_type": "stream",
     "text": [
      "/tmp/ipykernel_38853/1856777046.py:9: RuntimeWarning: overflow encountered in multiply\n",
      "  tmp = tmp*x/i\n",
      "/tmp/ipykernel_38853/1856777046.py:10: RuntimeWarning: invalid value encountered in add\n",
      "  result += tmp\n"
     ]
    }
   ],
   "source": [
    "import numpy as np\n",
    "x = -20\n",
    "n_max = 100\n",
    "\n",
    "def exponential_series(x,n_max):\n",
    "    tmp = 1\n",
    "    result = 1\n",
    "    for i in range(1,n_max+1):\n",
    "        tmp = tmp*x/i\n",
    "        result += tmp\n",
    "    return result\n",
    "print(\"Ergebnis mit double precision:\", exponential_series(x,n_max))\n",
    "print(\"Ergebnis mit half precision:\", exponential_series(np.array([x],dtype=np.float16),n_max))\n",
    "print(\"Ergebnis mit single precision:\", exponential_series(np.array([x],dtype=np.float32),n_max))\n",
    "print(\"Ergebnis mit extended precision:Ergebnis mit\", exponential_series(np.array([x],dtype=np.longdouble),n_max))"
   ]
  },
  {
   "cell_type": "markdown",
   "id": "0b4d3eb6",
   "metadata": {},
   "source": [
    "# Instabile Nullstellensuche"
   ]
  },
  {
   "cell_type": "markdown",
   "id": "eea0ad1f",
   "metadata": {},
   "source": [
    "In diesem Beispiel zeigen wir die Probleme bei der Berechnung der größeren der beiden Nullstellen von $x² + 2px -q \\overset{!}{=} 0$.\n",
    "\n",
    "Hierbei zeigen wir die instabile Lösungsformel $x = \\sqrt{p^2+q} - p$ und die stabile Formulierung $ x = \\frac{q}{\\sqrt{p² + q} + p}$."
   ]
  },
  {
   "cell_type": "code",
   "execution_count": 41,
   "id": "854244ab",
   "metadata": {},
   "outputs": [
    {
     "name": "stdout",
     "output_type": "stream",
     "text": [
      "p und q (double precision):  500000000 1\n",
      "Instabile Auswertung: 0.0\n",
      "Stabile Auswertung: 1e-09\n",
      "p und q (single precision):  [5000.] [1.]\n",
      "Instabile Auswertung: [0.]\n",
      "Stabile Auswertung: [1.e-04]\n"
     ]
    }
   ],
   "source": [
    "import numpy as np\n",
    "from math import sqrt\n",
    "def get_root_unstable(p,q):\n",
    "    return sqrt(p**2 + q) - p\n",
    "def get_root_stable(p,q):\n",
    "    return q/(sqrt(p**2 + q)+p)\n",
    "\n",
    "p = 500000000\n",
    "q = 1\n",
    "print(\"p und q (double precision): \", p, q)\n",
    "print(\"Instabile Auswertung:\", get_root_unstable(p,q))\n",
    "print(\"Stabile Auswertung:\", get_root_stable(p,q))\n",
    "\n",
    "p = np.array([5000], dtype=np.float32)\n",
    "q = np.array([1], dtype=np.float32)\n",
    "print(\"p und q (single precision): \", p, q,)\n",
    "\n",
    "print(\"Instabile Auswertung:\", get_root_unstable(p,q))\n",
    "print(\"Stabile Auswertung:\", get_root_stable(p,q))"
   ]
  },
  {
   "cell_type": "code",
   "execution_count": null,
   "id": "616cc366",
   "metadata": {},
   "outputs": [],
   "source": []
  }
 ],
 "metadata": {
  "kernelspec": {
   "display_name": "Python 3 (ipykernel)",
   "language": "python",
   "name": "python3"
  },
  "language_info": {
   "codemirror_mode": {
    "name": "ipython",
    "version": 3
   },
   "file_extension": ".py",
   "mimetype": "text/x-python",
   "name": "python",
   "nbconvert_exporter": "python",
   "pygments_lexer": "ipython3",
   "version": "3.10.12"
  }
 },
 "nbformat": 4,
 "nbformat_minor": 5
}
